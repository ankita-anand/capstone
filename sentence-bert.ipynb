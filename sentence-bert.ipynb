{
 "cells": [
  {
   "cell_type": "code",
   "execution_count": 21,
   "metadata": {},
   "outputs": [],
   "source": [
    "import warnings \n",
    "warnings.filterwarnings(\"ignore\")\n",
    "\n",
    "import pandas as pd\n",
    "import numpy as np\n",
    "import pickle\n",
    "from sentence_transformers import SentenceTransformer"
   ]
  },
  {
   "cell_type": "code",
   "execution_count": 22,
   "metadata": {},
   "outputs": [],
   "source": [
    "df = pd.read_csv('data/wikidata2.csv')\n",
    "text = df.Data.values.tolist()"
   ]
  },
  {
   "cell_type": "code",
   "execution_count": 23,
   "metadata": {},
   "outputs": [],
   "source": [
    "model = SentenceTransformer('bert-large-nli-stsb-mean-tokens')"
   ]
  },
  {
   "cell_type": "code",
   "execution_count": 4,
   "metadata": {},
   "outputs": [],
   "source": [
    "embeddings_list = model.encode(text)"
   ]
  },
  {
   "cell_type": "code",
   "execution_count": 19,
   "metadata": {},
   "outputs": [],
   "source": [
    "embeddings = np.asarray(embeddings_list)\n",
    "\n",
    "pickle.dump(embeddings, open('data/SBERT_embeddings_large.pkl', 'wb'))\n",
    "np.save('data/SBERT_embeddings_large.npy', embeddings)\n",
    "np.savetxt('data/SBERT_embeddings_large.txt', embeddings)"
   ]
  },
  {
   "cell_type": "code",
   "execution_count": 25,
   "metadata": {},
   "outputs": [
    {
     "name": "stdout",
     "output_type": "stream",
     "text": [
      "67 0.4907325804233551 https://en.wikipedia.org/wiki/Artificial_neural_network\n",
      "390 0.49010196328163147 https://en.wikipedia.org/wiki/Types_of_artificial_neural_networks\n",
      "47 0.4725901484489441 https://en.wikipedia.org/wiki/Transduction_(machine_learning)\n",
      "70 0.453743577003479 https://en.wikipedia.org/wiki/Variational_Bayesian_methods\n",
      "284 0.43831098079681396 https://en.wikipedia.org/wiki/Evolutionary_computation\n",
      "71 0.43082746863365173 https://en.wikipedia.org/wiki/Nonlinear_system\n",
      "681 0.4293132424354553 https://en.wikipedia.org/wiki/Mixed_model\n",
      "27 0.4263877272605896 https://en.wikipedia.org/wiki/Generalization_(learning)\n",
      "377 0.41926032304763794 https://en.wikipedia.org/wiki/One-class_classification\n",
      "128 0.41588789224624634 https://en.wikipedia.org/wiki/Unsupervised_learning\n",
      "\n",
      "503 0.7516360282897949 https://en.wikipedia.org/wiki/Sparse_PCA\n",
      "427 0.7423217296600342 https://en.wikipedia.org/wiki/Feature_extraction\n",
      "533 0.7280616164207458 https://en.wikipedia.org/wiki/Stochastic_gradient_descent\n",
      "527 0.7246944904327393 https://en.wikipedia.org/wiki/Robust_principal_component_analysis\n",
      "220 0.695787250995636 https://en.wikipedia.org/wiki/AdaBoost\n",
      "143 0.6923141479492188 https://en.wikipedia.org/wiki/Smoothing\n",
      "250 0.6911484599113464 https://en.wikipedia.org/wiki/Bias-variance_dilemma\n",
      "251 0.6911484599113464 https://en.wikipedia.org/wiki/Bias%E2%80%93variance_tradeoff\n",
      "285 0.6828429698944092 https://en.wikipedia.org/wiki/Stochastic_gradient_descent#AdaGrad\n",
      "397 0.6821665167808533 https://en.wikipedia.org/wiki/Tikhonov_regularization\n",
      "\n",
      "1 0.7976295351982117 https://en.wikipedia.org/wiki/Principal_component_analysis\n",
      "19 0.7067803144454956 https://en.wikipedia.org/wiki/Linear_regression\n",
      "891 0.6787030100822449 https://en.wikipedia.org/wiki/Mean_and_predicted_response\n",
      "940 0.6714242100715637 https://en.wikipedia.org/wiki/Piecewise_linear_function\n",
      "738 0.6693884134292603 https://en.wikipedia.org/wiki/Total_least_squares\n",
      "114 0.6650214195251465 https://en.wikipedia.org/wiki/Simple_linear_regression\n",
      "546 0.6595578789710999 https://en.wikipedia.org/wiki/Linear_regression#Simple_and_multiple_linear_regression\n",
      "831 0.655469536781311 https://en.wikipedia.org/wiki/Line_fitting\n",
      "802 0.6543985605239868 https://en.wikipedia.org/wiki/Linear_least_squares_(mathematics)\n",
      "803 0.6543985605239868 https://en.wikipedia.org/wiki/Linear_least_squares\n",
      "\n",
      "232 0.6715430617332458 https://en.wikipedia.org/wiki/Recurrent_neural_network\n",
      "383 0.6257182955741882 https://en.wikipedia.org/wiki/Bidirectional_recurrent_neural_networks\n",
      "307 0.608529269695282 https://en.wikipedia.org/wiki/Long_short-term_memory\n",
      "474 0.5523703694343567 https://en.wikipedia.org/wiki/Word2vec\n",
      "921 0.5415644645690918 https://en.wikipedia.org/wiki/Neural_machine_translation\n",
      "798 0.5357210040092468 https://en.wikipedia.org/wiki/Natural_language\n",
      "618 0.5104109644889832 https://en.wikipedia.org/wiki/Recursive_neural_network\n",
      "254 0.5063285827636719 https://en.wikipedia.org/wiki/Transformer_(machine_learning_model)\n",
      "511 0.5008039474487305 https://en.wikipedia.org/wiki/Audio-visual_speech_recognition\n",
      "771 0.5004757046699524 https://en.wikipedia.org/wiki/Natural_language_processing\n",
      "\n",
      "390 0.6008085012435913 https://en.wikipedia.org/wiki/Types_of_artificial_neural_networks\n",
      "895 0.5754691362380981 https://en.wikipedia.org/wiki/Neural_network_software\n",
      "257 0.5727670788764954 https://en.wikipedia.org/wiki/Hebbian_theory\n",
      "901 0.5714895725250244 https://en.wikipedia.org/wiki/Mathematics_of_artificial_neural_networks\n",
      "67 0.5534085035324097 https://en.wikipedia.org/wiki/Artificial_neural_network\n",
      "398 0.5533979535102844 https://en.wikipedia.org/wiki/Rectifier_(neural_networks)\n",
      "324 0.535254180431366 https://en.wikipedia.org/wiki/Capsule_neural_network\n",
      "555 0.5328916311264038 https://en.wikipedia.org/wiki/Deep_reinforcement_learning\n",
      "129 0.5287435054779053 https://en.wikipedia.org/wiki/Convolutional_neural_network\n",
      "195 0.5175276398658752 https://en.wikipedia.org/wiki/Boltzmann_machine\n",
      "\n"
     ]
    }
   ],
   "source": [
    "from sklearn.metrics.pairwise import cosine_similarity\n",
    "embeddings = np.load('data/SBERT_embeddings_large.npy')\n",
    "\n",
    "q = [\n",
    "        'PCA is a technique for reducing the dimensionality of such datasets, increasing interpretability but at the same time minimizing information loss. It does so by creating new uncorrelated variables that successively maximize variance. Finding such new variables, the principal components, reduces to solving an eigenvalue/eigenvector problem, and the new variables are defined by the dataset at hand, not a priori, hence making PCA an adaptive data analysis technique.',\n",
    "        'PCA is a statistical procedure that uses an orthogonal transformation to convert a set of observations of possibly correlated variables into a set of values of linearly uncorrelated variables called principal components.',\n",
    "        'We advocate using the recurrent neural network transducer (RNN-T), first described in , as a more natural model for speech recognition. The RNN-T consists of two components, a transcription or encoder network and a recurrent prediction or decoder network.',\n",
    "        'When you first heard of the term convolutional neural networks, you may have thought of something related to neuroscience or biology, and you would be right. Sort of. CNNs do take a biological inspiration from the visual cortex.' \n",
    "    ]\n",
    "q_embeddings = model.encode(q)\n",
    "\n",
    "concepts = df.Concept.values\n",
    "\n",
    "for ix in range(len(q_embeddings)):\n",
    "\n",
    "    cosine_similarities = pd.Series(cosine_similarity(embeddings, q_embeddings[ix].reshape(1,-1)).flatten())\n",
    "\n",
    "    output =\"\"\n",
    "    for i,j in cosine_similarities.nlargest(10).iteritems():\n",
    "        print(str(i), str(j), concepts[i])\n",
    "\n",
    "    print(output)"
   ]
  },
  {
   "cell_type": "code",
   "execution_count": 20,
   "metadata": {},
   "outputs": [
    {
     "ename": "NameError",
     "evalue": "name 'embedddings' is not defined",
     "output_type": "error",
     "traceback": [
      "\u001b[1;31m---------------------------------------------------------------------------\u001b[0m",
      "\u001b[1;31mNameError\u001b[0m                                 Traceback (most recent call last)",
      "\u001b[1;32m<ipython-input-20-e272e3dda679>\u001b[0m in \u001b[0;36m<module>\u001b[1;34m\u001b[0m\n\u001b[1;32m----> 1\u001b[1;33m \u001b[0membedddings\u001b[0m\u001b[1;33m.\u001b[0m\u001b[0mshape\u001b[0m\u001b[1;33m\u001b[0m\u001b[1;33m\u001b[0m\u001b[0m\n\u001b[0m",
      "\u001b[1;31mNameError\u001b[0m: name 'embedddings' is not defined"
     ]
    }
   ],
   "source": [
    "embedddings.shape"
   ]
  },
  {
   "cell_type": "code",
   "execution_count": null,
   "metadata": {},
   "outputs": [],
   "source": []
  }
 ],
 "metadata": {
  "kernelspec": {
   "display_name": "Python 3",
   "language": "python",
   "name": "python3"
  },
  "language_info": {
   "codemirror_mode": {
    "name": "ipython",
    "version": 3
   },
   "file_extension": ".py",
   "mimetype": "text/x-python",
   "name": "python",
   "nbconvert_exporter": "python",
   "pygments_lexer": "ipython3",
   "version": "3.6.7"
  }
 },
 "nbformat": 4,
 "nbformat_minor": 4
}
